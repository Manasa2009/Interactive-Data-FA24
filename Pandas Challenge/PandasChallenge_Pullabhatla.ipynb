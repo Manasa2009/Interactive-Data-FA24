{
 "cells": [
  {
   "cell_type": "code",
   "execution_count": 1,
   "id": "bdd955d5-0c83-4c0d-b11c-93a8c9a66a47",
   "metadata": {},
   "outputs": [],
   "source": [
    "# Importing Pandas\n",
    "import pandas as pd"
   ]
  },
  {
   "cell_type": "code",
   "execution_count": 23,
   "id": "db08d2de-a70b-4b3a-8ae0-4bc9ed1fd19a",
   "metadata": {},
   "outputs": [],
   "source": [
    "# Build three rows and three columns\n",
    "df_pd =  {'S.No' : [1, 2, 3],\n",
    "         'Fruits' : ['Apple', 'Banana', 'Orange'],\n",
    "         'Vegetables' : ['Tomato', 'Pepper', 'Carrot']}"
   ]
  },
  {
   "cell_type": "code",
   "execution_count": 24,
   "id": "27bec9ff-5d87-43be-a47b-dc1e8917f727",
   "metadata": {},
   "outputs": [],
   "source": [
    "# Insert the data into a data frame\n",
    "df_pd = pd.DataFrame(df_pd)"
   ]
  },
  {
   "cell_type": "code",
   "execution_count": 25,
   "id": "b2f6a921-b49a-424a-93d2-fc174a7ee731",
   "metadata": {},
   "outputs": [
    {
     "name": "stdout",
     "output_type": "stream",
     "text": [
      "   S.No  Fruits Vegetables\n",
      "0     1   Apple     Tomato\n",
      "1     2  Banana     Pepper\n",
      "2     3  Orange     Carrot\n"
     ]
    }
   ],
   "source": [
    "# Head of the data frame\n",
    "print(df_pd.head())"
   ]
  },
  {
   "cell_type": "code",
   "execution_count": 27,
   "id": "3e211296-39a6-497c-b2ce-5803837413b3",
   "metadata": {},
   "outputs": [
    {
     "name": "stdout",
     "output_type": "stream",
     "text": [
      "RangeIndex(start=0, stop=3, step=1)\n"
     ]
    }
   ],
   "source": [
    "# Index of the data frame\n",
    "print(df_pd.index)"
   ]
  },
  {
   "cell_type": "code",
   "execution_count": 35,
   "id": "9567d893-78c9-485c-91e9-6ebac5b5847a",
   "metadata": {},
   "outputs": [
    {
     "name": "stdout",
     "output_type": "stream",
     "text": [
      "0    1\n",
      "1    2\n",
      "2    3\n",
      "Name: S.No, dtype: int64\n"
     ]
    }
   ],
   "source": [
    "# Viewing the first column of the data frame\n",
    "first_column = df_pd.iloc[:, 0]\n",
    "print(first_column)"
   ]
  },
  {
   "cell_type": "code",
   "execution_count": 40,
   "id": "a5339ef8-3c5a-4bb8-a08f-e893942c274f",
   "metadata": {},
   "outputs": [
    {
     "name": "stdout",
     "output_type": "stream",
     "text": [
      "S.No               1\n",
      "Fruits         Apple\n",
      "Vegetables    Tomato\n",
      "Name: 0, dtype: object\n"
     ]
    }
   ],
   "source": [
    "# Viewing the first row of the data frame\n",
    "first_row = df_pd.iloc[0]\n",
    "print(first_row)"
   ]
  },
  {
   "cell_type": "code",
   "execution_count": 42,
   "id": "e4c43438-4bb2-4fc7-8a1b-2b772c512300",
   "metadata": {},
   "outputs": [
    {
     "name": "stdout",
     "output_type": "stream",
     "text": [
      "   S.No  Fruits Vegetables\n",
      "0     1   Apple     Tomato\n",
      "1     2  Banana     Pepper\n",
      "2     3  Orange     Carrot\n"
     ]
    }
   ],
   "source": [
    "# Creating a DataFrame using lists\n",
    "df_list = [\n",
    "           [1, 'Apple', 'Tomato'],\n",
    "           [2, 'Banana', 'Pepper'],\n",
    "           [3, 'Orange', 'Carrot']\n",
    "           ]\n",
    "\n",
    "# Define column names\n",
    "columns = ['S.No', 'Fruits', 'Vegetables']\n",
    "\n",
    "# Create DataFrame\n",
    "df_list = pd.DataFrame(df_list, columns=columns)\n",
    "\n",
    "print(df_list)"
   ]
  },
  {
   "cell_type": "code",
   "execution_count": 43,
   "id": "9290c39f-2cf2-41ee-a36f-a036be2cb89f",
   "metadata": {},
   "outputs": [],
   "source": [
    "#writing the data to csv file\n",
    "df_list.to_csv('data.csv', index=False)"
   ]
  },
  {
   "cell_type": "markdown",
   "id": "3a452cfd-71ef-45d0-a622-b1c0a42a9287",
   "metadata": {},
   "source": [
    "### ***Questions based on the content from Murray (2017) Chapter 1:***\n",
    "\n",
    "**1. What does the \"write/render/evaluate\" loop provide for creators of interactive data visualizations?**\n",
    "\n",
    "*Ans: The \"write/render/evaluate\" loop, as outlined in Murray (2017) Chapter 1, provides creators of interactive data visualizations with a structured approach to iteratively improve their work.*\n",
    "\n",
    "* ***Write:*** *Creators write the initial code to define the visualization's structure and functionality.*\n",
    "* ***Render:*** *They then render it in the browser, allowing them to see the immediate output of their work.*\n",
    "* ***Evaluate:*** *Finally, they assess how well the visualization communicates the intended message, considering clarity, usability, and interaction, making necessary adjustments.*\n",
    "\n",
    "***This loop promotes a cycle of continuous improvement, enabling creators to refine their visualizations until they achieve the desired outcome.***"
   ]
  },
  {
   "cell_type": "markdown",
   "id": "1b0f83a4-f1ba-49ed-8124-e0a9d5dc8c88",
   "metadata": {},
   "source": [
    "**2. Why are dynamic, interactive data visualizations useful when communicating data?**\n",
    "\n",
    "*Ans : According to Murray (2017) in Chapter 1, dynamic and interactive data visualizations are valuable for several reasons:*\n",
    "\n",
    "* ***Enhanced Exploration:*** *They allow users to explore data from different perspectives and interact with it in real-time, which helps in discovering patterns and insights that static visualizations might miss.*\n",
    "* ***Improved Engagement:*** *Interactive elements, such as filtering and zooming, keep users engaged by enabling them to customize their view and focus on relevant data.*\n",
    "* ***Immediate Feedback:*** *They provide immediate feedback as users interact with the data, making it easier to understand complex relationships and trends.*\n",
    "* ***User Control:*** *Users have control over the data they see, which can lead to a more personalized and relevant data experience, enhancing comprehension and decision-making.*"
   ]
  },
  {
   "cell_type": "markdown",
   "id": "709a04a0-5ce7-4fea-903d-ce4bcc2a3330",
   "metadata": {},
   "source": [
    "**3. Do you agree with Murray's claim that open-source tools that avoid proprietary software are best for publishing data visualization? In a few sentences, explain why you do or do not agree.**\n",
    "\n",
    "*Ans : Yes, I agree with Murray's claim that open-source tools are often preferable for publishing data visualizations. Open-source tools offer greater flexibility, allowing for extensive customization and adaptation to specific needs. They also provide transparency and avoid the limitations and costs associated with proprietary software, making them a strong choice for iterative development and collaborative projects.*"
   ]
  }
 ],
 "metadata": {
  "kernelspec": {
   "display_name": "Python 3 (ipykernel)",
   "language": "python",
   "name": "python3"
  },
  "language_info": {
   "codemirror_mode": {
    "name": "ipython",
    "version": 3
   },
   "file_extension": ".py",
   "mimetype": "text/x-python",
   "name": "python",
   "nbconvert_exporter": "python",
   "pygments_lexer": "ipython3",
   "version": "3.12.4"
  }
 },
 "nbformat": 4,
 "nbformat_minor": 5
}
