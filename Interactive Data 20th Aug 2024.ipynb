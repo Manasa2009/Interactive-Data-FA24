{
 "cells": [
  {
   "cell_type": "markdown",
   "id": "6f1e6e8e-3a0c-4aea-bd01-f1f098b2a86c",
   "metadata": {},
   "source": [
    "# Systems Check\n",
    "## Manasa Pullabhatla\n",
    "## 8/20/2024"
   ]
  },
  {
   "cell_type": "code",
   "execution_count": 20,
   "id": "b8ab81ea-b71c-437e-b8dd-381c601023aa",
   "metadata": {},
   "outputs": [
    {
     "name": "stdout",
     "output_type": "stream",
     "text": [
      "3\n"
     ]
    }
   ],
   "source": [
    "x =3\n",
    "print (x)"
   ]
  },
  {
   "cell_type": "code",
   "execution_count": 23,
   "id": "1f32be7b-b69c-48ec-9878-597f39a19f12",
   "metadata": {},
   "outputs": [
    {
     "data": {
      "text/plain": [
       "[1, 2, 3, 4]"
      ]
     },
     "execution_count": 23,
     "metadata": {},
     "output_type": "execute_result"
    }
   ],
   "source": [
    "my_list = [1,2,3,4]\n",
    "my_list"
   ]
  },
  {
   "cell_type": "code",
   "execution_count": 25,
   "id": "a03ff1b7-2fb8-44d9-a616-0f1f399a7292",
   "metadata": {},
   "outputs": [
    {
     "data": {
      "text/plain": [
       "1"
      ]
     },
     "execution_count": 25,
     "metadata": {},
     "output_type": "execute_result"
    }
   ],
   "source": [
    "my_list[0]"
   ]
  },
  {
   "cell_type": "code",
   "execution_count": 26,
   "id": "86e2ec7b-9511-4e94-a672-1ce663039bce",
   "metadata": {},
   "outputs": [],
   "source": [
    "my_name = 'Manasa'"
   ]
  },
  {
   "cell_type": "code",
   "execution_count": 28,
   "id": "172f9e17-48a1-4917-af4c-12845d3cdcfb",
   "metadata": {},
   "outputs": [],
   "source": [
    "def display_name(x):\n",
    "    print(x)"
   ]
  },
  {
   "cell_type": "code",
   "execution_count": null,
   "id": "2afc2dd1-eb27-4133-ab35-d77aac7973af",
   "metadata": {},
   "outputs": [],
   "source": []
  }
 ],
 "metadata": {
  "kernelspec": {
   "display_name": "Python 3 (ipykernel)",
   "language": "python",
   "name": "python3"
  },
  "language_info": {
   "codemirror_mode": {
    "name": "ipython",
    "version": 3
   },
   "file_extension": ".py",
   "mimetype": "text/x-python",
   "name": "python",
   "nbconvert_exporter": "python",
   "pygments_lexer": "ipython3",
   "version": "3.12.4"
  }
 },
 "nbformat": 4,
 "nbformat_minor": 5
}
