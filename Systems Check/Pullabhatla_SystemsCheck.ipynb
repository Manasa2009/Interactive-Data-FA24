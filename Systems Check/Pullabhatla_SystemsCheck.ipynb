{
 "cells": [
  {
   "cell_type": "markdown",
   "id": "ef85af70-6293-4864-b632-79fa9f88445d",
   "metadata": {},
   "source": [
    "# ***Interactive Data - Manasa Pullabhatla***"
   ]
  },
  {
   "cell_type": "markdown",
   "id": "a2ddb996-4b17-4508-a922-4994d334b428",
   "metadata": {},
   "source": [
    "**I've few expectations from this course with regards to the learning outcomes and they are:**\n",
    "\n",
    "* *Gain practical skills in visualizing and interpreting complex datasets.*\n",
    "* *Learn advanced tools for interactive data exploration and presentation.*\n",
    "* *Develop insights into using data for dynamic decision-making and storytelling.*\n",
    "* *Enhance proficiency in handling real-time data analysis and user interactivity.*\n"
   ]
  },
  {
   "cell_type": "markdown",
   "id": "78a96bd7-7c80-4b40-8980-7dd9ae7852ad",
   "metadata": {},
   "source": [
    "[Python](https://www.python.org)"
   ]
  },
  {
   "cell_type": "markdown",
   "id": "41338843-847a-4730-9851-b7eff942bf0e",
   "metadata": {},
   "source": [
    "**Variable Assignment**"
   ]
  },
  {
   "cell_type": "code",
   "execution_count": 1,
   "id": "ca48b399-e51c-4a65-97b7-1c529e92815f",
   "metadata": {},
   "outputs": [],
   "source": [
    "# Assigning the value of x as 3\n",
    "x = 3"
   ]
  },
  {
   "cell_type": "markdown",
   "id": "a1fc849c-f5d2-46a4-b16c-db4ad2246acb",
   "metadata": {},
   "source": [
    "**Print the Variable (x)**"
   ]
  },
  {
   "cell_type": "code",
   "execution_count": 2,
   "id": "9ba58c7e-8425-413c-9d7a-fa8a1f384ecd",
   "metadata": {},
   "outputs": [
    {
     "name": "stdout",
     "output_type": "stream",
     "text": [
      "3\n"
     ]
    }
   ],
   "source": [
    "print(x)"
   ]
  },
  {
   "cell_type": "markdown",
   "id": "45812ac5-b856-457b-a58a-33ec2d4ca73d",
   "metadata": {},
   "source": [
    "**For Loop**"
   ]
  },
  {
   "cell_type": "code",
   "execution_count": 4,
   "id": "82f597e5-ed78-4d05-ab02-ede48107ae0a",
   "metadata": {},
   "outputs": [
    {
     "name": "stdout",
     "output_type": "stream",
     "text": [
      "Tomato\n",
      "Peppers\n"
     ]
    }
   ],
   "source": [
    "veggies = ('Tomato','Peppers')\n",
    "\n",
    "for y in veggies:\n",
    "    print(y)"
   ]
  },
  {
   "cell_type": "markdown",
   "id": "d4507f74-61de-4e1d-bc7e-922fcd6ef8aa",
   "metadata": {},
   "source": [
    "**Function with Return Statement**"
   ]
  },
  {
   "cell_type": "code",
   "execution_count": 10,
   "id": "330bd688-1435-4813-b5a2-4313b185562a",
   "metadata": {},
   "outputs": [],
   "source": [
    "def evencalc(number):\n",
    "    return number / 2"
   ]
  },
  {
   "cell_type": "code",
   "execution_count": 11,
   "id": "a259d8af-3c39-4aa2-a39c-cce4b3cc3899",
   "metadata": {},
   "outputs": [
    {
     "data": {
      "text/plain": [
       "2.0"
      ]
     },
     "execution_count": 11,
     "metadata": {},
     "output_type": "execute_result"
    }
   ],
   "source": [
    "evencalc(4)"
   ]
  },
  {
   "cell_type": "markdown",
   "id": "3ca64bf5-78b9-459c-83e4-b15028f89fd1",
   "metadata": {},
   "source": [
    "**Function with Print Statement**"
   ]
  },
  {
   "cell_type": "code",
   "execution_count": 12,
   "id": "172f9e17-48a1-4917-af4c-12845d3cdcfb",
   "metadata": {},
   "outputs": [],
   "source": [
    "def display_name(x):\n",
    "    print(x)"
   ]
  },
  {
   "cell_type": "code",
   "execution_count": 13,
   "id": "8faa6104-95eb-436b-b303-e27df706d6c1",
   "metadata": {},
   "outputs": [
    {
     "name": "stdout",
     "output_type": "stream",
     "text": [
      "Manasa\n"
     ]
    }
   ],
   "source": [
    "display_name('Manasa')"
   ]
  }
 ],
 "metadata": {
  "kernelspec": {
   "display_name": "Python 3 (ipykernel)",
   "language": "python",
   "name": "python3"
  },
  "language_info": {
   "codemirror_mode": {
    "name": "ipython",
    "version": 3
   },
   "file_extension": ".py",
   "mimetype": "text/x-python",
   "name": "python",
   "nbconvert_exporter": "python",
   "pygments_lexer": "ipython3",
   "version": "3.12.4"
  }
 },
 "nbformat": 4,
 "nbformat_minor": 5
}
