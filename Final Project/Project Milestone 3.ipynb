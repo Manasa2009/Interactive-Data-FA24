{
 "cells": [
  {
   "cell_type": "markdown",
   "id": "4d7b43e7",
   "metadata": {},
   "source": [
    "# ***Visualizing Operational Efficiency in Animal Shelters***"
   ]
  },
  {
   "cell_type": "markdown",
   "id": "56b7c60c",
   "metadata": {},
   "source": [
    "### **Milestone - 2 Clean, Manipulate, and Structure the data to build clear and informative visuals.**"
   ]
  },
  {
   "cell_type": "code",
   "execution_count": 3,
   "id": "da6057fb",
   "metadata": {},
   "outputs": [],
   "source": [
    "#Importing all the required libraries\n",
    "import pandas as pd\n",
    "import numpy as np\n",
    "from matplotlib import pyplot as plt\n",
    "import seaborn as sns\n",
    "import warnings\n",
    "import squarify"
   ]
  },
  {
   "cell_type": "markdown",
   "id": "edcf8fb8",
   "metadata": {},
   "source": [
    "##  **Animal Intakes Data**"
   ]
  },
  {
   "cell_type": "code",
   "execution_count": 5,
   "id": "987b1279",
   "metadata": {},
   "outputs": [],
   "source": [
    "#Loading the Animal Intakes Data\n",
    "intakes_data = pd.read_csv(\"Austin_Animal_Center_Intakes_20241105.CSV\")"
   ]
  },
  {
   "cell_type": "code",
   "execution_count": 6,
   "id": "192a8838",
   "metadata": {},
   "outputs": [
    {
     "data": {
      "text/html": [
       "<div>\n",
       "<style scoped>\n",
       "    .dataframe tbody tr th:only-of-type {\n",
       "        vertical-align: middle;\n",
       "    }\n",
       "\n",
       "    .dataframe tbody tr th {\n",
       "        vertical-align: top;\n",
       "    }\n",
       "\n",
       "    .dataframe thead th {\n",
       "        text-align: right;\n",
       "    }\n",
       "</style>\n",
       "<table border=\"1\" class=\"dataframe\">\n",
       "  <thead>\n",
       "    <tr style=\"text-align: right;\">\n",
       "      <th></th>\n",
       "      <th>Animal ID</th>\n",
       "      <th>Name</th>\n",
       "      <th>DateTime</th>\n",
       "      <th>MonthYear</th>\n",
       "      <th>Found Location</th>\n",
       "      <th>Intake Type</th>\n",
       "      <th>Intake Condition</th>\n",
       "      <th>Animal Type</th>\n",
       "      <th>Sex upon Intake</th>\n",
       "      <th>Age upon Intake</th>\n",
       "      <th>Breed</th>\n",
       "      <th>Color</th>\n",
       "    </tr>\n",
       "  </thead>\n",
       "  <tbody>\n",
       "    <tr>\n",
       "      <th>0</th>\n",
       "      <td>A786884</td>\n",
       "      <td>*Brock</td>\n",
       "      <td>01/03/2019 04:19:00 PM</td>\n",
       "      <td>January 2019</td>\n",
       "      <td>2501 Magin Meadow Dr in Austin (TX)</td>\n",
       "      <td>Stray</td>\n",
       "      <td>Normal</td>\n",
       "      <td>Dog</td>\n",
       "      <td>Neutered Male</td>\n",
       "      <td>2 years</td>\n",
       "      <td>Beagle Mix</td>\n",
       "      <td>Tricolor</td>\n",
       "    </tr>\n",
       "    <tr>\n",
       "      <th>1</th>\n",
       "      <td>A706918</td>\n",
       "      <td>Belle</td>\n",
       "      <td>07/05/2015 12:59:00 PM</td>\n",
       "      <td>July 2015</td>\n",
       "      <td>9409 Bluegrass Dr in Austin (TX)</td>\n",
       "      <td>Stray</td>\n",
       "      <td>Normal</td>\n",
       "      <td>Dog</td>\n",
       "      <td>Spayed Female</td>\n",
       "      <td>8 years</td>\n",
       "      <td>English Springer Spaniel</td>\n",
       "      <td>White/Liver</td>\n",
       "    </tr>\n",
       "    <tr>\n",
       "      <th>2</th>\n",
       "      <td>A724273</td>\n",
       "      <td>Runster</td>\n",
       "      <td>04/14/2016 06:43:00 PM</td>\n",
       "      <td>April 2016</td>\n",
       "      <td>2818 Palomino Trail in Austin (TX)</td>\n",
       "      <td>Stray</td>\n",
       "      <td>Normal</td>\n",
       "      <td>Dog</td>\n",
       "      <td>Intact Male</td>\n",
       "      <td>11 months</td>\n",
       "      <td>Basenji Mix</td>\n",
       "      <td>Sable/White</td>\n",
       "    </tr>\n",
       "    <tr>\n",
       "      <th>3</th>\n",
       "      <td>A665644</td>\n",
       "      <td>NaN</td>\n",
       "      <td>10/21/2013 07:59:00 AM</td>\n",
       "      <td>October 2013</td>\n",
       "      <td>Austin (TX)</td>\n",
       "      <td>Stray</td>\n",
       "      <td>Sick</td>\n",
       "      <td>Cat</td>\n",
       "      <td>Intact Female</td>\n",
       "      <td>4 weeks</td>\n",
       "      <td>Domestic Shorthair Mix</td>\n",
       "      <td>Calico</td>\n",
       "    </tr>\n",
       "    <tr>\n",
       "      <th>4</th>\n",
       "      <td>A857105</td>\n",
       "      <td>Johnny Ringo</td>\n",
       "      <td>05/12/2022 12:23:00 AM</td>\n",
       "      <td>May 2022</td>\n",
       "      <td>4404 Sarasota Drive in Austin (TX)</td>\n",
       "      <td>Public Assist</td>\n",
       "      <td>Normal</td>\n",
       "      <td>Cat</td>\n",
       "      <td>Neutered Male</td>\n",
       "      <td>2 years</td>\n",
       "      <td>Domestic Shorthair</td>\n",
       "      <td>Orange Tabby</td>\n",
       "    </tr>\n",
       "  </tbody>\n",
       "</table>\n",
       "</div>"
      ],
      "text/plain": [
       "  Animal ID          Name                DateTime     MonthYear  \\\n",
       "0   A786884        *Brock  01/03/2019 04:19:00 PM  January 2019   \n",
       "1   A706918         Belle  07/05/2015 12:59:00 PM     July 2015   \n",
       "2   A724273       Runster  04/14/2016 06:43:00 PM    April 2016   \n",
       "3   A665644           NaN  10/21/2013 07:59:00 AM  October 2013   \n",
       "4   A857105  Johnny Ringo  05/12/2022 12:23:00 AM      May 2022   \n",
       "\n",
       "                        Found Location    Intake Type Intake Condition  \\\n",
       "0  2501 Magin Meadow Dr in Austin (TX)          Stray           Normal   \n",
       "1     9409 Bluegrass Dr in Austin (TX)          Stray           Normal   \n",
       "2   2818 Palomino Trail in Austin (TX)          Stray           Normal   \n",
       "3                          Austin (TX)          Stray             Sick   \n",
       "4   4404 Sarasota Drive in Austin (TX)  Public Assist           Normal   \n",
       "\n",
       "  Animal Type Sex upon Intake Age upon Intake                     Breed  \\\n",
       "0         Dog   Neutered Male         2 years                Beagle Mix   \n",
       "1         Dog   Spayed Female         8 years  English Springer Spaniel   \n",
       "2         Dog     Intact Male       11 months               Basenji Mix   \n",
       "3         Cat   Intact Female         4 weeks    Domestic Shorthair Mix   \n",
       "4         Cat   Neutered Male         2 years        Domestic Shorthair   \n",
       "\n",
       "          Color  \n",
       "0      Tricolor  \n",
       "1   White/Liver  \n",
       "2   Sable/White  \n",
       "3        Calico  \n",
       "4  Orange Tabby  "
      ]
     },
     "execution_count": 6,
     "metadata": {},
     "output_type": "execute_result"
    }
   ],
   "source": [
    "#Looking as to how the data looks like\n",
    "intakes_data.head()"
   ]
  },
  {
   "cell_type": "code",
   "execution_count": 7,
   "id": "2c85c2b4",
   "metadata": {},
   "outputs": [],
   "source": [
    "#Breaking Month Year into Month and Year as two separate columns\n",
    "with warnings.catch_warnings():\n",
    "    warnings.simplefilter(\"ignore\")\n",
    "    intakes_data[['Month','Year']] = intakes_data['MonthYear'].str.split(' ',expand=True)"
   ]
  },
  {
   "cell_type": "code",
   "execution_count": 8,
   "id": "607d453d",
   "metadata": {},
   "outputs": [],
   "source": [
    "#Breaking Found Location into City and State as two separate columns\n",
    "with warnings.catch_warnings():\n",
    "    warnings.simplefilter(\"ignore\")\n",
    "\n",
    "    # Defining a function\n",
    "    def split_location(location):\n",
    "        parts = location.rsplit(' ', 2)\n",
    "        \n",
    "        # If there's only one space, we treat the first part as City and the second as State\n",
    "        if len(parts) == 2:\n",
    "            city, state = parts\n",
    "        elif len(parts) > 2:\n",
    "            # if location has more than one space then split at the second last space\n",
    "            city, state = parts[-2:]\n",
    "        else:\n",
    "            # If the format is unexpected, we are returning NaN\n",
    "            city, state = np.nan, np.nan\n",
    "            \n",
    "        return pd.Series([city, state])\n",
    "\n",
    "# Apply the function to the 'Found Location' column\n",
    "intakes_data[['City', 'State']] = intakes_data['Found Location'].apply(split_location)"
   ]
  },
  {
   "cell_type": "code",
   "execution_count": 9,
   "id": "2a3a444a",
   "metadata": {
    "scrolled": true
   },
   "outputs": [
    {
     "data": {
      "text/html": [
       "<div>\n",
       "<style scoped>\n",
       "    .dataframe tbody tr th:only-of-type {\n",
       "        vertical-align: middle;\n",
       "    }\n",
       "\n",
       "    .dataframe tbody tr th {\n",
       "        vertical-align: top;\n",
       "    }\n",
       "\n",
       "    .dataframe thead th {\n",
       "        text-align: right;\n",
       "    }\n",
       "</style>\n",
       "<table border=\"1\" class=\"dataframe\">\n",
       "  <thead>\n",
       "    <tr style=\"text-align: right;\">\n",
       "      <th></th>\n",
       "      <th>Animal ID</th>\n",
       "      <th>Name</th>\n",
       "      <th>DateTime</th>\n",
       "      <th>MonthYear</th>\n",
       "      <th>Found Location</th>\n",
       "      <th>Intake Type</th>\n",
       "      <th>Intake Condition</th>\n",
       "      <th>Animal Type</th>\n",
       "      <th>Sex upon Intake</th>\n",
       "      <th>Age upon Intake</th>\n",
       "      <th>Breed</th>\n",
       "      <th>Color</th>\n",
       "      <th>Month</th>\n",
       "      <th>Year</th>\n",
       "      <th>City</th>\n",
       "      <th>State</th>\n",
       "    </tr>\n",
       "  </thead>\n",
       "  <tbody>\n",
       "    <tr>\n",
       "      <th>count</th>\n",
       "      <td>168620</td>\n",
       "      <td>120090</td>\n",
       "      <td>168620</td>\n",
       "      <td>168620</td>\n",
       "      <td>168620</td>\n",
       "      <td>168620</td>\n",
       "      <td>168620</td>\n",
       "      <td>168620</td>\n",
       "      <td>168618</td>\n",
       "      <td>168619</td>\n",
       "      <td>168620</td>\n",
       "      <td>168620</td>\n",
       "      <td>168620</td>\n",
       "      <td>168620</td>\n",
       "      <td>168620</td>\n",
       "      <td>168620</td>\n",
       "    </tr>\n",
       "    <tr>\n",
       "      <th>unique</th>\n",
       "      <td>151546</td>\n",
       "      <td>29161</td>\n",
       "      <td>116247</td>\n",
       "      <td>134</td>\n",
       "      <td>68388</td>\n",
       "      <td>6</td>\n",
       "      <td>20</td>\n",
       "      <td>5</td>\n",
       "      <td>5</td>\n",
       "      <td>55</td>\n",
       "      <td>2972</td>\n",
       "      <td>651</td>\n",
       "      <td>12</td>\n",
       "      <td>12</td>\n",
       "      <td>28</td>\n",
       "      <td>2</td>\n",
       "    </tr>\n",
       "    <tr>\n",
       "      <th>top</th>\n",
       "      <td>A721033</td>\n",
       "      <td>Luna</td>\n",
       "      <td>09/23/2016 12:00:00 PM</td>\n",
       "      <td>June 2015</td>\n",
       "      <td>Austin (TX)</td>\n",
       "      <td>Stray</td>\n",
       "      <td>Normal</td>\n",
       "      <td>Dog</td>\n",
       "      <td>Intact Male</td>\n",
       "      <td>1 year</td>\n",
       "      <td>Domestic Shorthair Mix</td>\n",
       "      <td>Black/White</td>\n",
       "      <td>May</td>\n",
       "      <td>2019</td>\n",
       "      <td>Austin</td>\n",
       "      <td>(TX)</td>\n",
       "    </tr>\n",
       "    <tr>\n",
       "      <th>freq</th>\n",
       "      <td>33</td>\n",
       "      <td>727</td>\n",
       "      <td>64</td>\n",
       "      <td>2189</td>\n",
       "      <td>30660</td>\n",
       "      <td>115707</td>\n",
       "      <td>143111</td>\n",
       "      <td>92056</td>\n",
       "      <td>57128</td>\n",
       "      <td>27502</td>\n",
       "      <td>33629</td>\n",
       "      <td>17477</td>\n",
       "      <td>17609</td>\n",
       "      <td>19727</td>\n",
       "      <td>138226</td>\n",
       "      <td>166584</td>\n",
       "    </tr>\n",
       "  </tbody>\n",
       "</table>\n",
       "</div>"
      ],
      "text/plain": [
       "       Animal ID    Name                DateTime  MonthYear Found Location  \\\n",
       "count     168620  120090                  168620     168620         168620   \n",
       "unique    151546   29161                  116247        134          68388   \n",
       "top      A721033    Luna  09/23/2016 12:00:00 PM  June 2015    Austin (TX)   \n",
       "freq          33     727                      64       2189          30660   \n",
       "\n",
       "       Intake Type Intake Condition Animal Type Sex upon Intake  \\\n",
       "count       168620           168620      168620          168618   \n",
       "unique           6               20           5               5   \n",
       "top          Stray           Normal         Dog     Intact Male   \n",
       "freq        115707           143111       92056           57128   \n",
       "\n",
       "       Age upon Intake                   Breed        Color   Month    Year  \\\n",
       "count           168619                  168620       168620  168620  168620   \n",
       "unique              55                    2972          651      12      12   \n",
       "top             1 year  Domestic Shorthair Mix  Black/White     May    2019   \n",
       "freq             27502                   33629        17477   17609   19727   \n",
       "\n",
       "          City   State  \n",
       "count   168620  168620  \n",
       "unique      28       2  \n",
       "top     Austin    (TX)  \n",
       "freq    138226  166584  "
      ]
     },
     "execution_count": 9,
     "metadata": {},
     "output_type": "execute_result"
    }
   ],
   "source": [
    "#Viewing the descriptive stats for the Animal Intakes data\n",
    "intakes_data.describe()"
   ]
  },
  {
   "cell_type": "markdown",
   "id": "681fe711",
   "metadata": {},
   "source": [
    "**For the objectives of this project, the Name, DateTime, MonthYear, Found Location, Breed, Color and State columns can be dropped.**\n",
    "\n",
    "**Why?**\n",
    "\n",
    "1. Name, DateTime, Breed and Color columns will not be necessary, as our analysis does not require data at such a granular level.\n",
    "\n",
    "2. Found Location and MonthYear are being dropped as we have transformed and created new columns using the existing ones.\n",
    "\n",
    "3. State is also being dropped because the dataset is from the State of Texas and all the data points will have state as Texas (TX)."
   ]
  },
  {
   "cell_type": "code",
   "execution_count": 11,
   "id": "45364619",
   "metadata": {},
   "outputs": [],
   "source": [
    "intakes_data.drop(['Name','DateTime','MonthYear','Found Location','Breed','Color','State'], axis=1, inplace=True)"
   ]
  },
  {
   "cell_type": "code",
   "execution_count": 12,
   "id": "7f3ed50b",
   "metadata": {},
   "outputs": [
    {
     "data": {
      "text/plain": [
       "['Animal ID',\n",
       " 'Intake Type',\n",
       " 'Intake Condition',\n",
       " 'Animal Type',\n",
       " 'Sex upon Intake',\n",
       " 'Age upon Intake',\n",
       " 'Month',\n",
       " 'Year',\n",
       " 'City']"
      ]
     },
     "execution_count": 12,
     "metadata": {},
     "output_type": "execute_result"
    }
   ],
   "source": [
    "intakes_data.columns.to_list()"
   ]
  },
  {
   "cell_type": "markdown",
   "id": "27b8c3c0",
   "metadata": {},
   "source": [
    "**Here we can see that the selected columns have been dropped from the data frame.**"
   ]
  },
  {
   "cell_type": "code",
   "execution_count": 14,
   "id": "a99ef066",
   "metadata": {},
   "outputs": [
    {
     "name": "stdout",
     "output_type": "stream",
     "text": [
      "<class 'pandas.core.frame.DataFrame'>\n",
      "RangeIndex: 168620 entries, 0 to 168619\n",
      "Data columns (total 9 columns):\n",
      " #   Column            Non-Null Count   Dtype \n",
      "---  ------            --------------   ----- \n",
      " 0   Animal ID         168620 non-null  object\n",
      " 1   Intake Type       168620 non-null  object\n",
      " 2   Intake Condition  168620 non-null  object\n",
      " 3   Animal Type       168620 non-null  object\n",
      " 4   Sex upon Intake   168618 non-null  object\n",
      " 5   Age upon Intake   168619 non-null  object\n",
      " 6   Month             168620 non-null  object\n",
      " 7   Year              168620 non-null  object\n",
      " 8   City              168620 non-null  object\n",
      "dtypes: object(9)\n",
      "memory usage: 11.6+ MB\n"
     ]
    }
   ],
   "source": [
    "intakes_data.info()"
   ]
  },
  {
   "cell_type": "markdown",
   "id": "9692f471",
   "metadata": {},
   "source": [
    "**Without even having to use the isna() function we can clearly see that out of 168,620 rows and 8 columns only two of them have missing values and that too the count is not very significant, only a couple of rows are missing and imputting them will not benefit the analysis significantly. So we are going to drop those two rows of data from intakes_data.**"
   ]
  },
  {
   "cell_type": "code",
   "execution_count": 16,
   "id": "7fb2f9e2",
   "metadata": {},
   "outputs": [],
   "source": [
    "intakes_data_cleaned = intakes_data.dropna(axis=0,how='any')"
   ]
  },
  {
   "cell_type": "code",
   "execution_count": 17,
   "id": "09dd3427",
   "metadata": {},
   "outputs": [
    {
     "data": {
      "text/plain": [
       "Animal ID           False\n",
       "Intake Type         False\n",
       "Intake Condition    False\n",
       "Animal Type         False\n",
       "Sex upon Intake     False\n",
       "Age upon Intake     False\n",
       "Month               False\n",
       "Year                False\n",
       "City                False\n",
       "dtype: bool"
      ]
     },
     "execution_count": 17,
     "metadata": {},
     "output_type": "execute_result"
    }
   ],
   "source": [
    "intakes_data_cleaned.isnull().any()"
   ]
  },
  {
   "cell_type": "markdown",
   "id": "04ecdc3d",
   "metadata": {},
   "source": [
    "***We can clearly see that none of the columns have missing values as we have dropped them.***"
   ]
  },
  {
   "cell_type": "code",
   "execution_count": 19,
   "id": "a0b669b5",
   "metadata": {},
   "outputs": [
    {
     "data": {
      "text/html": [
       "<div>\n",
       "<style scoped>\n",
       "    .dataframe tbody tr th:only-of-type {\n",
       "        vertical-align: middle;\n",
       "    }\n",
       "\n",
       "    .dataframe tbody tr th {\n",
       "        vertical-align: top;\n",
       "    }\n",
       "\n",
       "    .dataframe thead th {\n",
       "        text-align: right;\n",
       "    }\n",
       "</style>\n",
       "<table border=\"1\" class=\"dataframe\">\n",
       "  <thead>\n",
       "    <tr style=\"text-align: right;\">\n",
       "      <th></th>\n",
       "      <th>Animal ID</th>\n",
       "      <th>Intake Type</th>\n",
       "      <th>Intake Condition</th>\n",
       "      <th>Animal Type</th>\n",
       "      <th>Sex upon Intake</th>\n",
       "      <th>Age upon Intake</th>\n",
       "      <th>Month</th>\n",
       "      <th>Year</th>\n",
       "      <th>City</th>\n",
       "    </tr>\n",
       "  </thead>\n",
       "  <tbody>\n",
       "    <tr>\n",
       "      <th>168610</th>\n",
       "      <td>A902459</td>\n",
       "      <td>Owner Surrender</td>\n",
       "      <td>Normal</td>\n",
       "      <td>Cat</td>\n",
       "      <td>Intact Female</td>\n",
       "      <td>1 year</td>\n",
       "      <td>April</td>\n",
       "      <td>2024</td>\n",
       "      <td>Austin</td>\n",
       "    </tr>\n",
       "    <tr>\n",
       "      <th>168611</th>\n",
       "      <td>A915712</td>\n",
       "      <td>Stray</td>\n",
       "      <td>Normal</td>\n",
       "      <td>Dog</td>\n",
       "      <td>Intact Male</td>\n",
       "      <td>1 year</td>\n",
       "      <td>November</td>\n",
       "      <td>2024</td>\n",
       "      <td>Austin</td>\n",
       "    </tr>\n",
       "    <tr>\n",
       "      <th>168612</th>\n",
       "      <td>A917339</td>\n",
       "      <td>Stray</td>\n",
       "      <td>Normal</td>\n",
       "      <td>Cat</td>\n",
       "      <td>Intact Male</td>\n",
       "      <td>1 year</td>\n",
       "      <td>November</td>\n",
       "      <td>2024</td>\n",
       "      <td>Travis</td>\n",
       "    </tr>\n",
       "    <tr>\n",
       "      <th>168613</th>\n",
       "      <td>A917373</td>\n",
       "      <td>Stray</td>\n",
       "      <td>Neonatal</td>\n",
       "      <td>Cat</td>\n",
       "      <td>Unknown</td>\n",
       "      <td>4 weeks</td>\n",
       "      <td>November</td>\n",
       "      <td>2024</td>\n",
       "      <td>Austin</td>\n",
       "    </tr>\n",
       "    <tr>\n",
       "      <th>168614</th>\n",
       "      <td>A917347</td>\n",
       "      <td>Stray</td>\n",
       "      <td>Normal</td>\n",
       "      <td>Cat</td>\n",
       "      <td>Intact Male</td>\n",
       "      <td>4 months</td>\n",
       "      <td>November</td>\n",
       "      <td>2024</td>\n",
       "      <td>Austin</td>\n",
       "    </tr>\n",
       "    <tr>\n",
       "      <th>168615</th>\n",
       "      <td>A917365</td>\n",
       "      <td>Stray</td>\n",
       "      <td>Normal</td>\n",
       "      <td>Dog</td>\n",
       "      <td>Intact Female</td>\n",
       "      <td>1 year</td>\n",
       "      <td>November</td>\n",
       "      <td>2024</td>\n",
       "      <td>Austin</td>\n",
       "    </tr>\n",
       "    <tr>\n",
       "      <th>168616</th>\n",
       "      <td>A917357</td>\n",
       "      <td>Stray</td>\n",
       "      <td>Normal</td>\n",
       "      <td>Dog</td>\n",
       "      <td>Intact Female</td>\n",
       "      <td>1 year</td>\n",
       "      <td>November</td>\n",
       "      <td>2024</td>\n",
       "      <td>Austin</td>\n",
       "    </tr>\n",
       "    <tr>\n",
       "      <th>168617</th>\n",
       "      <td>A902460</td>\n",
       "      <td>Owner Surrender</td>\n",
       "      <td>Normal</td>\n",
       "      <td>Cat</td>\n",
       "      <td>Intact Female</td>\n",
       "      <td>1 year</td>\n",
       "      <td>April</td>\n",
       "      <td>2024</td>\n",
       "      <td>Austin</td>\n",
       "    </tr>\n",
       "    <tr>\n",
       "      <th>168618</th>\n",
       "      <td>A916886</td>\n",
       "      <td>Stray</td>\n",
       "      <td>Normal</td>\n",
       "      <td>Cat</td>\n",
       "      <td>Intact Male</td>\n",
       "      <td>2 years</td>\n",
       "      <td>October</td>\n",
       "      <td>2024</td>\n",
       "      <td>Travis</td>\n",
       "    </tr>\n",
       "    <tr>\n",
       "      <th>168619</th>\n",
       "      <td>A914535</td>\n",
       "      <td>Owner Surrender</td>\n",
       "      <td>Normal</td>\n",
       "      <td>Cat</td>\n",
       "      <td>Intact Female</td>\n",
       "      <td>1 month</td>\n",
       "      <td>October</td>\n",
       "      <td>2024</td>\n",
       "      <td>Austin</td>\n",
       "    </tr>\n",
       "  </tbody>\n",
       "</table>\n",
       "</div>"
      ],
      "text/plain": [
       "       Animal ID      Intake Type Intake Condition Animal Type  \\\n",
       "168610   A902459  Owner Surrender           Normal         Cat   \n",
       "168611   A915712            Stray           Normal         Dog   \n",
       "168612   A917339            Stray           Normal         Cat   \n",
       "168613   A917373            Stray         Neonatal         Cat   \n",
       "168614   A917347            Stray           Normal         Cat   \n",
       "168615   A917365            Stray           Normal         Dog   \n",
       "168616   A917357            Stray           Normal         Dog   \n",
       "168617   A902460  Owner Surrender           Normal         Cat   \n",
       "168618   A916886            Stray           Normal         Cat   \n",
       "168619   A914535  Owner Surrender           Normal         Cat   \n",
       "\n",
       "       Sex upon Intake Age upon Intake     Month  Year    City  \n",
       "168610   Intact Female          1 year     April  2024  Austin  \n",
       "168611     Intact Male          1 year  November  2024  Austin  \n",
       "168612     Intact Male          1 year  November  2024  Travis  \n",
       "168613         Unknown         4 weeks  November  2024  Austin  \n",
       "168614     Intact Male        4 months  November  2024  Austin  \n",
       "168615   Intact Female          1 year  November  2024  Austin  \n",
       "168616   Intact Female          1 year  November  2024  Austin  \n",
       "168617   Intact Female          1 year     April  2024  Austin  \n",
       "168618     Intact Male         2 years   October  2024  Travis  \n",
       "168619   Intact Female         1 month   October  2024  Austin  "
      ]
     },
     "execution_count": 19,
     "metadata": {},
     "output_type": "execute_result"
    }
   ],
   "source": [
    "intakes_data_cleaned.tail(n=10)"
   ]
  },
  {
   "cell_type": "markdown",
   "id": "b67dd5e5",
   "metadata": {},
   "source": [
    "**The final cleaned data for the animal intakes is \"intakes_data_cleaned\".**\n",
    "\n",
    "Note: Animal ID is a key assigned to each intake or when there has been any update to that record, at present the exploration to join this field to the Animal ID of outcomes data is yet to be done. As this falls outide the scope of the project at present."
   ]
  },
  {
   "cell_type": "markdown",
   "id": "4f91d01c",
   "metadata": {},
   "source": [
    "##  **Animal Outcomes Data**"
   ]
  },
  {
   "cell_type": "code",
   "execution_count": 22,
   "id": "76798099",
   "metadata": {},
   "outputs": [],
   "source": [
    "outcomes_data = pd.read_csv(\"Austin_Animal_Center_Outcomes_20241105.CSV\")"
   ]
  },
  {
   "cell_type": "code",
   "execution_count": 23,
   "id": "d6440bf1",
   "metadata": {},
   "outputs": [
    {
     "data": {
      "text/html": [
       "<div>\n",
       "<style scoped>\n",
       "    .dataframe tbody tr th:only-of-type {\n",
       "        vertical-align: middle;\n",
       "    }\n",
       "\n",
       "    .dataframe tbody tr th {\n",
       "        vertical-align: top;\n",
       "    }\n",
       "\n",
       "    .dataframe thead th {\n",
       "        text-align: right;\n",
       "    }\n",
       "</style>\n",
       "<table border=\"1\" class=\"dataframe\">\n",
       "  <thead>\n",
       "    <tr style=\"text-align: right;\">\n",
       "      <th></th>\n",
       "      <th>Animal ID</th>\n",
       "      <th>Name</th>\n",
       "      <th>DateTime</th>\n",
       "      <th>MonthYear</th>\n",
       "      <th>Date of Birth</th>\n",
       "      <th>Outcome Type</th>\n",
       "      <th>Outcome Subtype</th>\n",
       "      <th>Animal Type</th>\n",
       "      <th>Sex upon Outcome</th>\n",
       "      <th>Age upon Outcome</th>\n",
       "      <th>Breed</th>\n",
       "      <th>Color</th>\n",
       "    </tr>\n",
       "  </thead>\n",
       "  <tbody>\n",
       "    <tr>\n",
       "      <th>0</th>\n",
       "      <td>A882831</td>\n",
       "      <td>*Hamilton</td>\n",
       "      <td>07/01/2023 06:12:00 PM</td>\n",
       "      <td>Jul 2023</td>\n",
       "      <td>03/25/2023</td>\n",
       "      <td>Adoption</td>\n",
       "      <td>NaN</td>\n",
       "      <td>Cat</td>\n",
       "      <td>Neutered Male</td>\n",
       "      <td>3 months</td>\n",
       "      <td>Domestic Shorthair Mix</td>\n",
       "      <td>Black/White</td>\n",
       "    </tr>\n",
       "    <tr>\n",
       "      <th>1</th>\n",
       "      <td>A794011</td>\n",
       "      <td>Chunk</td>\n",
       "      <td>05/08/2019 06:20:00 PM</td>\n",
       "      <td>May 2019</td>\n",
       "      <td>05/02/2017</td>\n",
       "      <td>Rto-Adopt</td>\n",
       "      <td>NaN</td>\n",
       "      <td>Cat</td>\n",
       "      <td>Neutered Male</td>\n",
       "      <td>2 years</td>\n",
       "      <td>Domestic Shorthair Mix</td>\n",
       "      <td>Brown Tabby/White</td>\n",
       "    </tr>\n",
       "    <tr>\n",
       "      <th>2</th>\n",
       "      <td>A776359</td>\n",
       "      <td>Gizmo</td>\n",
       "      <td>07/18/2018 04:02:00 PM</td>\n",
       "      <td>Jul 2018</td>\n",
       "      <td>07/12/2017</td>\n",
       "      <td>Adoption</td>\n",
       "      <td>NaN</td>\n",
       "      <td>Dog</td>\n",
       "      <td>Neutered Male</td>\n",
       "      <td>1 year</td>\n",
       "      <td>Chihuahua Shorthair Mix</td>\n",
       "      <td>White/Brown</td>\n",
       "    </tr>\n",
       "    <tr>\n",
       "      <th>3</th>\n",
       "      <td>A821648</td>\n",
       "      <td>NaN</td>\n",
       "      <td>08/16/2020 11:38:00 AM</td>\n",
       "      <td>Aug 2020</td>\n",
       "      <td>08/16/2019</td>\n",
       "      <td>Euthanasia</td>\n",
       "      <td>NaN</td>\n",
       "      <td>Other</td>\n",
       "      <td>Unknown</td>\n",
       "      <td>1 year</td>\n",
       "      <td>Raccoon</td>\n",
       "      <td>Gray</td>\n",
       "    </tr>\n",
       "    <tr>\n",
       "      <th>4</th>\n",
       "      <td>A720371</td>\n",
       "      <td>Moose</td>\n",
       "      <td>02/13/2016 05:59:00 PM</td>\n",
       "      <td>Feb 2016</td>\n",
       "      <td>10/08/2015</td>\n",
       "      <td>Adoption</td>\n",
       "      <td>NaN</td>\n",
       "      <td>Dog</td>\n",
       "      <td>Neutered Male</td>\n",
       "      <td>4 months</td>\n",
       "      <td>Anatol Shepherd/Labrador Retriever</td>\n",
       "      <td>Buff</td>\n",
       "    </tr>\n",
       "  </tbody>\n",
       "</table>\n",
       "</div>"
      ],
      "text/plain": [
       "  Animal ID       Name                DateTime MonthYear Date of Birth  \\\n",
       "0   A882831  *Hamilton  07/01/2023 06:12:00 PM  Jul 2023    03/25/2023   \n",
       "1   A794011      Chunk  05/08/2019 06:20:00 PM  May 2019    05/02/2017   \n",
       "2   A776359      Gizmo  07/18/2018 04:02:00 PM  Jul 2018    07/12/2017   \n",
       "3   A821648        NaN  08/16/2020 11:38:00 AM  Aug 2020    08/16/2019   \n",
       "4   A720371      Moose  02/13/2016 05:59:00 PM  Feb 2016    10/08/2015   \n",
       "\n",
       "  Outcome Type Outcome Subtype Animal Type Sex upon Outcome Age upon Outcome  \\\n",
       "0     Adoption             NaN         Cat    Neutered Male         3 months   \n",
       "1    Rto-Adopt             NaN         Cat    Neutered Male          2 years   \n",
       "2     Adoption             NaN         Dog    Neutered Male           1 year   \n",
       "3   Euthanasia             NaN       Other          Unknown           1 year   \n",
       "4     Adoption             NaN         Dog    Neutered Male         4 months   \n",
       "\n",
       "                                Breed              Color  \n",
       "0              Domestic Shorthair Mix        Black/White  \n",
       "1              Domestic Shorthair Mix  Brown Tabby/White  \n",
       "2             Chihuahua Shorthair Mix        White/Brown  \n",
       "3                             Raccoon               Gray  \n",
       "4  Anatol Shepherd/Labrador Retriever               Buff  "
      ]
     },
     "execution_count": 23,
     "metadata": {},
     "output_type": "execute_result"
    }
   ],
   "source": [
    "outcomes_data.head()"
   ]
  },
  {
   "cell_type": "code",
   "execution_count": 24,
   "id": "fc33b137",
   "metadata": {},
   "outputs": [],
   "source": [
    "#Breaking Month Year into Month and Year as two separate columns\n",
    "with warnings.catch_warnings():\n",
    "    warnings.simplefilter(\"ignore\")\n",
    "    outcomes_data[['Month','Year']] = outcomes_data['MonthYear'].str.split(' ',expand=True)"
   ]
  },
  {
   "cell_type": "code",
   "execution_count": 25,
   "id": "cdfedb80",
   "metadata": {},
   "outputs": [
    {
     "data": {
      "text/html": [
       "<div>\n",
       "<style scoped>\n",
       "    .dataframe tbody tr th:only-of-type {\n",
       "        vertical-align: middle;\n",
       "    }\n",
       "\n",
       "    .dataframe tbody tr th {\n",
       "        vertical-align: top;\n",
       "    }\n",
       "\n",
       "    .dataframe thead th {\n",
       "        text-align: right;\n",
       "    }\n",
       "</style>\n",
       "<table border=\"1\" class=\"dataframe\">\n",
       "  <thead>\n",
       "    <tr style=\"text-align: right;\">\n",
       "      <th></th>\n",
       "      <th>Animal ID</th>\n",
       "      <th>Name</th>\n",
       "      <th>DateTime</th>\n",
       "      <th>MonthYear</th>\n",
       "      <th>Date of Birth</th>\n",
       "      <th>Outcome Type</th>\n",
       "      <th>Outcome Subtype</th>\n",
       "      <th>Animal Type</th>\n",
       "      <th>Sex upon Outcome</th>\n",
       "      <th>Age upon Outcome</th>\n",
       "      <th>Breed</th>\n",
       "      <th>Color</th>\n",
       "      <th>Month</th>\n",
       "      <th>Year</th>\n",
       "    </tr>\n",
       "  </thead>\n",
       "  <tbody>\n",
       "    <tr>\n",
       "      <th>count</th>\n",
       "      <td>168536</td>\n",
       "      <td>120154</td>\n",
       "      <td>168536</td>\n",
       "      <td>168536</td>\n",
       "      <td>168536</td>\n",
       "      <td>168492</td>\n",
       "      <td>77383</td>\n",
       "      <td>168536</td>\n",
       "      <td>168534</td>\n",
       "      <td>168525</td>\n",
       "      <td>168536</td>\n",
       "      <td>168536</td>\n",
       "      <td>168536</td>\n",
       "      <td>168536</td>\n",
       "    </tr>\n",
       "    <tr>\n",
       "      <th>unique</th>\n",
       "      <td>151457</td>\n",
       "      <td>29100</td>\n",
       "      <td>140645</td>\n",
       "      <td>134</td>\n",
       "      <td>8518</td>\n",
       "      <td>11</td>\n",
       "      <td>26</td>\n",
       "      <td>5</td>\n",
       "      <td>5</td>\n",
       "      <td>55</td>\n",
       "      <td>2974</td>\n",
       "      <td>654</td>\n",
       "      <td>12</td>\n",
       "      <td>12</td>\n",
       "    </tr>\n",
       "    <tr>\n",
       "      <th>top</th>\n",
       "      <td>A721033</td>\n",
       "      <td>Luna</td>\n",
       "      <td>04/18/2016 12:00:00 AM</td>\n",
       "      <td>Jun 2019</td>\n",
       "      <td>05/01/2016</td>\n",
       "      <td>Adoption</td>\n",
       "      <td>Partner</td>\n",
       "      <td>Dog</td>\n",
       "      <td>Neutered Male</td>\n",
       "      <td>1 year</td>\n",
       "      <td>Domestic Shorthair Mix</td>\n",
       "      <td>Black/White</td>\n",
       "      <td>Jul</td>\n",
       "      <td>2019</td>\n",
       "    </tr>\n",
       "    <tr>\n",
       "      <th>freq</th>\n",
       "      <td>33</td>\n",
       "      <td>729</td>\n",
       "      <td>39</td>\n",
       "      <td>2244</td>\n",
       "      <td>121</td>\n",
       "      <td>81294</td>\n",
       "      <td>39523</td>\n",
       "      <td>91985</td>\n",
       "      <td>59042</td>\n",
       "      <td>27962</td>\n",
       "      <td>33995</td>\n",
       "      <td>17484</td>\n",
       "      <td>16506</td>\n",
       "      <td>19775</td>\n",
       "    </tr>\n",
       "  </tbody>\n",
       "</table>\n",
       "</div>"
      ],
      "text/plain": [
       "       Animal ID    Name                DateTime MonthYear Date of Birth  \\\n",
       "count     168536  120154                  168536    168536        168536   \n",
       "unique    151457   29100                  140645       134          8518   \n",
       "top      A721033    Luna  04/18/2016 12:00:00 AM  Jun 2019    05/01/2016   \n",
       "freq          33     729                      39      2244           121   \n",
       "\n",
       "       Outcome Type Outcome Subtype Animal Type Sex upon Outcome  \\\n",
       "count        168492           77383      168536           168534   \n",
       "unique           11              26           5                5   \n",
       "top        Adoption         Partner         Dog    Neutered Male   \n",
       "freq          81294           39523       91985            59042   \n",
       "\n",
       "       Age upon Outcome                   Breed        Color   Month    Year  \n",
       "count            168525                  168536       168536  168536  168536  \n",
       "unique               55                    2974          654      12      12  \n",
       "top              1 year  Domestic Shorthair Mix  Black/White     Jul    2019  \n",
       "freq              27962                   33995        17484   16506   19775  "
      ]
     },
     "execution_count": 25,
     "metadata": {},
     "output_type": "execute_result"
    }
   ],
   "source": [
    "#Viewing the descriptive stats for the Animal Outcomes data\n",
    "outcomes_data.describe()"
   ]
  },
  {
   "cell_type": "markdown",
   "id": "39eabd4c",
   "metadata": {},
   "source": [
    "**For the objectives of this project, the Name, DateTime, Date of Birth, Breed and Color columns can be dropped.**\n",
    "\n",
    "**Why?**\n",
    "\n",
    "1. Name, DateTime, Date of Birth, Breed and Color columns will not be necessary, as our analysis does not require data at such a granular level.\n",
    "\n",
    "2. MonthYear is being dropped as we have transformed and created new columns using the existing ones."
   ]
  },
  {
   "cell_type": "code",
   "execution_count": 27,
   "id": "d8161d95",
   "metadata": {},
   "outputs": [],
   "source": [
    "outcomes_data.drop(['Name','DateTime','MonthYear','Date of Birth','Breed','Color'],axis=1, inplace=True)"
   ]
  },
  {
   "cell_type": "code",
   "execution_count": 28,
   "id": "65389724",
   "metadata": {},
   "outputs": [
    {
     "data": {
      "text/plain": [
       "['Animal ID',\n",
       " 'Outcome Type',\n",
       " 'Outcome Subtype',\n",
       " 'Animal Type',\n",
       " 'Sex upon Outcome',\n",
       " 'Age upon Outcome',\n",
       " 'Month',\n",
       " 'Year']"
      ]
     },
     "execution_count": 28,
     "metadata": {},
     "output_type": "execute_result"
    }
   ],
   "source": [
    "outcomes_data.columns.to_list()"
   ]
  },
  {
   "cell_type": "markdown",
   "id": "bfcfa297",
   "metadata": {},
   "source": [
    "**Here we can see that the five selected columns have been dropped from the data frame.**"
   ]
  },
  {
   "cell_type": "code",
   "execution_count": 30,
   "id": "78da55f3",
   "metadata": {},
   "outputs": [
    {
     "name": "stdout",
     "output_type": "stream",
     "text": [
      "<class 'pandas.core.frame.DataFrame'>\n",
      "RangeIndex: 168536 entries, 0 to 168535\n",
      "Data columns (total 8 columns):\n",
      " #   Column            Non-Null Count   Dtype \n",
      "---  ------            --------------   ----- \n",
      " 0   Animal ID         168536 non-null  object\n",
      " 1   Outcome Type      168492 non-null  object\n",
      " 2   Outcome Subtype   77383 non-null   object\n",
      " 3   Animal Type       168536 non-null  object\n",
      " 4   Sex upon Outcome  168534 non-null  object\n",
      " 5   Age upon Outcome  168525 non-null  object\n",
      " 6   Month             168536 non-null  object\n",
      " 7   Year              168536 non-null  object\n",
      "dtypes: object(8)\n",
      "memory usage: 10.3+ MB\n"
     ]
    }
   ],
   "source": [
    "outcomes_data.info()"
   ]
  },
  {
   "cell_type": "markdown",
   "id": "fa0a6303",
   "metadata": {},
   "source": [
    "**We can clearly see that Outcome Subtype column is having a lot of missing values nearly more than 50% of the data is missing values, let's take a look at what unique values does this field store.**"
   ]
  },
  {
   "cell_type": "code",
   "execution_count": 32,
   "id": "6060d1cf",
   "metadata": {},
   "outputs": [
    {
     "name": "stdout",
     "output_type": "stream",
     "text": [
      "[nan 'Partner' 'Foster' 'Snr' 'SCRP' 'Out State' 'Suffering' 'At Vet'\n",
      " 'Underage' 'Rabies Risk' 'In Kennel' 'Offsite' 'Aggressive' 'Field'\n",
      " 'Emergency' 'Enroute' 'In Foster' 'Behavior' 'Medical'\n",
      " 'Court/Investigation' 'Possible Theft' 'Barn' 'Customer S' 'In State'\n",
      " 'Emer' 'In Surgery' 'Prc']\n"
     ]
    }
   ],
   "source": [
    "print(outcomes_data['Outcome Subtype'].unique())"
   ]
  },
  {
   "cell_type": "markdown",
   "id": "3ef38e6d",
   "metadata": {},
   "source": [
    "**We can eliminate this column as well alongside other columns as it isn't needed for our project.**"
   ]
  },
  {
   "cell_type": "markdown",
   "id": "e4a4ba4f-9916-450c-b370-4e812821003c",
   "metadata": {},
   "source": [
    "**Note: The columns are being dropped only after careful consideration of their relevance to the analysis. Fields such as Name, DateTime, Date of Birth, Breed, Outcome Subtype, and Color provide detailed, case-specific information. However, the focus of this analysis is on higher-level trends, such as Yearly Adoption Trends and Outcome Distribution, where individual-level details are not necessary.**\n",
    "\n",
    "**Therefore, these columns are dropped to streamline the analysis and ensure we are addressing the key questions without unnecessary complexity.**"
   ]
  },
  {
   "cell_type": "code",
   "execution_count": 35,
   "id": "a94711b0",
   "metadata": {},
   "outputs": [],
   "source": [
    "outcomes_data.drop(\"Outcome Subtype\",axis=1,inplace=True)"
   ]
  },
  {
   "cell_type": "code",
   "execution_count": 36,
   "id": "6ef35edd",
   "metadata": {},
   "outputs": [
    {
     "data": {
      "text/plain": [
       "Animal ID            0\n",
       "Outcome Type        44\n",
       "Animal Type          0\n",
       "Sex upon Outcome     2\n",
       "Age upon Outcome    11\n",
       "Month                0\n",
       "Year                 0\n",
       "dtype: int64"
      ]
     },
     "execution_count": 36,
     "metadata": {},
     "output_type": "execute_result"
    }
   ],
   "source": [
    "#Checking for null values\n",
    "outcomes_data.isnull().sum()"
   ]
  },
  {
   "cell_type": "markdown",
   "id": "1746b449",
   "metadata": {},
   "source": [
    "**Although, we have dropped the Outcome Subtype column we can still see that there are a couple of columns which have missing values in them. Rather than trying to imputing them, it would be more efficient to carry forward the analysis if we drop them as the count is not very high and not alarming.**"
   ]
  },
  {
   "cell_type": "code",
   "execution_count": 38,
   "id": "2b85e370",
   "metadata": {},
   "outputs": [],
   "source": [
    "outcomes_data_cleaned = outcomes_data.dropna(axis=0,how='any')"
   ]
  },
  {
   "cell_type": "code",
   "execution_count": 39,
   "id": "ea74d7f7",
   "metadata": {},
   "outputs": [
    {
     "data": {
      "text/plain": [
       "Animal ID           False\n",
       "Outcome Type        False\n",
       "Animal Type         False\n",
       "Sex upon Outcome    False\n",
       "Age upon Outcome    False\n",
       "Month               False\n",
       "Year                False\n",
       "dtype: bool"
      ]
     },
     "execution_count": 39,
     "metadata": {},
     "output_type": "execute_result"
    }
   ],
   "source": [
    "#Checking for null values after dropping the null records\n",
    "outcomes_data_cleaned.isnull().any()"
   ]
  },
  {
   "cell_type": "code",
   "execution_count": 40,
   "id": "af11e999",
   "metadata": {},
   "outputs": [
    {
     "data": {
      "text/html": [
       "<div>\n",
       "<style scoped>\n",
       "    .dataframe tbody tr th:only-of-type {\n",
       "        vertical-align: middle;\n",
       "    }\n",
       "\n",
       "    .dataframe tbody tr th {\n",
       "        vertical-align: top;\n",
       "    }\n",
       "\n",
       "    .dataframe thead th {\n",
       "        text-align: right;\n",
       "    }\n",
       "</style>\n",
       "<table border=\"1\" class=\"dataframe\">\n",
       "  <thead>\n",
       "    <tr style=\"text-align: right;\">\n",
       "      <th></th>\n",
       "      <th>Animal ID</th>\n",
       "      <th>Outcome Type</th>\n",
       "      <th>Animal Type</th>\n",
       "      <th>Sex upon Outcome</th>\n",
       "      <th>Age upon Outcome</th>\n",
       "      <th>Month</th>\n",
       "      <th>Year</th>\n",
       "    </tr>\n",
       "  </thead>\n",
       "  <tbody>\n",
       "    <tr>\n",
       "      <th>168525</th>\n",
       "      <td>A917368</td>\n",
       "      <td>Transfer</td>\n",
       "      <td>Cat</td>\n",
       "      <td>Unknown</td>\n",
       "      <td>4 days</td>\n",
       "      <td>Nov</td>\n",
       "      <td>2024</td>\n",
       "    </tr>\n",
       "    <tr>\n",
       "      <th>168526</th>\n",
       "      <td>A916090</td>\n",
       "      <td>Adoption</td>\n",
       "      <td>Cat</td>\n",
       "      <td>Spayed Female</td>\n",
       "      <td>2 months</td>\n",
       "      <td>Nov</td>\n",
       "      <td>2024</td>\n",
       "    </tr>\n",
       "    <tr>\n",
       "      <th>168527</th>\n",
       "      <td>A916986</td>\n",
       "      <td>Adoption</td>\n",
       "      <td>Dog</td>\n",
       "      <td>Spayed Female</td>\n",
       "      <td>2 months</td>\n",
       "      <td>Nov</td>\n",
       "      <td>2024</td>\n",
       "    </tr>\n",
       "    <tr>\n",
       "      <th>168528</th>\n",
       "      <td>A917267</td>\n",
       "      <td>Return to Owner</td>\n",
       "      <td>Dog</td>\n",
       "      <td>Spayed Female</td>\n",
       "      <td>2 years</td>\n",
       "      <td>Nov</td>\n",
       "      <td>2024</td>\n",
       "    </tr>\n",
       "    <tr>\n",
       "      <th>168529</th>\n",
       "      <td>A916886</td>\n",
       "      <td>Adoption</td>\n",
       "      <td>Cat</td>\n",
       "      <td>Neutered Male</td>\n",
       "      <td>2 years</td>\n",
       "      <td>Nov</td>\n",
       "      <td>2024</td>\n",
       "    </tr>\n",
       "    <tr>\n",
       "      <th>168530</th>\n",
       "      <td>A915686</td>\n",
       "      <td>Adoption</td>\n",
       "      <td>Dog</td>\n",
       "      <td>Neutered Male</td>\n",
       "      <td>1 year</td>\n",
       "      <td>Nov</td>\n",
       "      <td>2024</td>\n",
       "    </tr>\n",
       "    <tr>\n",
       "      <th>168531</th>\n",
       "      <td>A902459</td>\n",
       "      <td>Adoption</td>\n",
       "      <td>Cat</td>\n",
       "      <td>Spayed Female</td>\n",
       "      <td>1 year</td>\n",
       "      <td>Apr</td>\n",
       "      <td>2024</td>\n",
       "    </tr>\n",
       "    <tr>\n",
       "      <th>168532</th>\n",
       "      <td>A902460</td>\n",
       "      <td>Adoption</td>\n",
       "      <td>Cat</td>\n",
       "      <td>Spayed Female</td>\n",
       "      <td>1 year</td>\n",
       "      <td>Apr</td>\n",
       "      <td>2024</td>\n",
       "    </tr>\n",
       "    <tr>\n",
       "      <th>168533</th>\n",
       "      <td>A914535</td>\n",
       "      <td>Adoption</td>\n",
       "      <td>Cat</td>\n",
       "      <td>Spayed Female</td>\n",
       "      <td>2 months</td>\n",
       "      <td>Nov</td>\n",
       "      <td>2024</td>\n",
       "    </tr>\n",
       "    <tr>\n",
       "      <th>168535</th>\n",
       "      <td>A916088</td>\n",
       "      <td>Adoption</td>\n",
       "      <td>Dog</td>\n",
       "      <td>Intact Male</td>\n",
       "      <td>2 years</td>\n",
       "      <td>Nov</td>\n",
       "      <td>2024</td>\n",
       "    </tr>\n",
       "  </tbody>\n",
       "</table>\n",
       "</div>"
      ],
      "text/plain": [
       "       Animal ID     Outcome Type Animal Type Sex upon Outcome  \\\n",
       "168525   A917368         Transfer         Cat          Unknown   \n",
       "168526   A916090         Adoption         Cat    Spayed Female   \n",
       "168527   A916986         Adoption         Dog    Spayed Female   \n",
       "168528   A917267  Return to Owner         Dog    Spayed Female   \n",
       "168529   A916886         Adoption         Cat    Neutered Male   \n",
       "168530   A915686         Adoption         Dog    Neutered Male   \n",
       "168531   A902459         Adoption         Cat    Spayed Female   \n",
       "168532   A902460         Adoption         Cat    Spayed Female   \n",
       "168533   A914535         Adoption         Cat    Spayed Female   \n",
       "168535   A916088         Adoption         Dog      Intact Male   \n",
       "\n",
       "       Age upon Outcome Month  Year  \n",
       "168525           4 days   Nov  2024  \n",
       "168526         2 months   Nov  2024  \n",
       "168527         2 months   Nov  2024  \n",
       "168528          2 years   Nov  2024  \n",
       "168529          2 years   Nov  2024  \n",
       "168530           1 year   Nov  2024  \n",
       "168531           1 year   Apr  2024  \n",
       "168532           1 year   Apr  2024  \n",
       "168533         2 months   Nov  2024  \n",
       "168535          2 years   Nov  2024  "
      ]
     },
     "execution_count": 40,
     "metadata": {},
     "output_type": "execute_result"
    }
   ],
   "source": [
    "outcomes_data_cleaned.tail(n=10)"
   ]
  },
  {
   "cell_type": "markdown",
   "id": "68b13a6e",
   "metadata": {},
   "source": [
    "**The final cleaned data for the animal outcomes is \"outcomes_data_cleaned\".**\n",
    "\n",
    "Note: As stated in the Animal Intakes section, Animal ID can be joined with Intakes data to track the animal's status over time, but this falls out of the scope of the project. Once all the questions are answered this part of the equation is worth exploring."
   ]
  },
  {
   "cell_type": "markdown",
   "id": "8db3bf08-eb9a-45ef-a772-e8ffc2ae3ddb",
   "metadata": {},
   "source": [
    "**Note:**\n",
    "Due to changes in the scope of the project, the primary questions we are aiming to analyze have been updated when compared to Milestone 1. The focus is now on the following key questions:\n",
    "\n",
    "1. How many animals are brought into the shelter on average yearly?\n",
    "2. Which intake type is contributing to the influx of animals into the shelter?\n",
    "3. What are the possible outcomes for the animals taken into the shelter?\n",
    "4. Over time, has the adoption rate of animals from the shelter increased or decreased?"
   ]
  },
  {
   "cell_type": "markdown",
   "id": "fe16b9de",
   "metadata": {},
   "source": [
    "## **Visual Analysis**"
   ]
  },
  {
   "cell_type": "markdown",
   "id": "ff9b2ebc",
   "metadata": {},
   "source": [
    "**1. How many animals are brought into the shelter on average yearly?**"
   ]
  },
  {
   "cell_type": "code",
   "execution_count": 45,
   "id": "a74ffc8a",
   "metadata": {
    "scrolled": true
   },
   "outputs": [
    {
     "name": "stdout",
     "output_type": "stream",
     "text": [
      "    Year  Count of Intakes\n",
      "0   2013              4075\n",
      "1   2014             17691\n",
      "2   2015             17606\n",
      "3   2016             16497\n",
      "4   2017             16356\n",
      "5   2018             15726\n",
      "6   2019             18398\n",
      "7   2020              9133\n",
      "8   2021             11295\n",
      "9   2022             11329\n",
      "10  2023             10787\n",
      "11  2024              9931\n"
     ]
    }
   ],
   "source": [
    "yearly_intakes = intakes_data_cleaned.groupby('Year')\n",
    "\n",
    "total_yearly_intakes = yearly_intakes['Animal ID'].nunique()\n",
    "\n",
    "total_yearly_intakes = total_yearly_intakes.reset_index(name = 'Count of Intakes')\n",
    "\n",
    "print(total_yearly_intakes)"
   ]
  },
  {
   "cell_type": "markdown",
   "id": "fc5323ab",
   "metadata": {},
   "source": [
    "We are using the Year column to group the records alongside getting the number of unique - Animal ID's count using the nunique() function. By, this we get a grouped values of yearly animal intakes at the shelter."
   ]
  },
  {
   "cell_type": "code",
   "execution_count": 47,
   "id": "fb4511e4",
   "metadata": {},
   "outputs": [
    {
     "data": {
      "image/png": "[encoded data removed]",
      "text/plain": [
       "<Figure size 1200x600 with 1 Axes>"
      ]
     },
     "metadata": {},
     "output_type": "display_data"
    }
   ],
   "source": [
    "plt.figure(figsize=(12, 6))\n",
    "sns.lineplot(data=total_yearly_intakes, x='Year', y='Count of Intakes', marker='o', linewidth=2, color='grey')\n",
    "\n",
    "# Get the highest and lowest values along with their Years\n",
    "max_value = total_yearly_intakes['Count of Intakes'].max()\n",
    "min_value = total_yearly_intakes['Count of Intakes'].min()\n",
    "\n",
    "max_year = total_yearly_intakes[total_yearly_intakes['Count of Intakes'] == max_value]['Year'].values[0]\n",
    "min_year = total_yearly_intakes[total_yearly_intakes['Count of Intakes'] == min_value]['Year'].values[0]\n",
    "\n",
    "# Adding Markers\n",
    "plt.scatter(max_year, max_value, color='red', s=100, label=f'Highest Intakes ({max_year})')\n",
    "plt.scatter(min_year, min_value, color='green', s=100, label=f'Lowest Intakes ({min_year})')\n",
    "\n",
    "# Calculating the average intakes\n",
    "average_value = total_yearly_intakes['Count of Intakes'].mean()\n",
    "plt.axhline(average_value, color='teal', linestyle='--', linewidth=2, label=f'Average ({average_value:.0f})')\n",
    "\n",
    "plt.text(\n",
    "    total_yearly_intakes['Year'].min(), \n",
    "    average_value + 300, \n",
    "    f'Avg:{average_value:.0f}', \n",
    "    color='darkred', \n",
    "    fontsize=10, \n",
    "    fontweight='bold'\n",
    ")\n",
    "\n",
    "# Adding titles and labels\n",
    "plt.title('Yearly Animal Intakes', fontsize=16, fontweight='bold')\n",
    "plt.xlabel('Year', fontsize=12, fontweight='bold')\n",
    "plt.ylabel('Count of Intakes', fontsize=12, fontweight='bold')\n",
    "plt.legend()\n",
    "\n",
    "plt.tight_layout()\n",
    "plt.show()"
   ]
  },
  {
   "cell_type": "markdown",
   "id": "d7cfb26c-3447-4ee4-8c6c-257c5a704f48",
   "metadata": {},
   "source": [
    "**Based on the visual and the accompanying tabular data, it is evident that 2019 had the highest intakes, while 2013 recorded the lowest intakes and on average the shelter is getting 13235 intakes per year.**\n",
    "\n",
    "**Some key observations and assumptions derived from the visual are as follows:**\n",
    "\n",
    "1. 2013 appears to have the lowest intakes, which could be attributed to it being the year when data collection began.\n",
    "2. A noticeable spike in intakes can be seen in 2014, possibly due to it being the second year of data collection. However, there are no significant changes in the following years, suggesting stabilization after the initial increase.\n",
    "3. 2019 stands out as the year with the highest number of intakes between 2013 and 2024.\n",
    "4. The significant drop in intakes observed in 2020 can likely be attributed to the global lockdowns and disruptions caused by the COVID-19 pandemic."
   ]
  },
  {
   "cell_type": "markdown",
   "id": "f087098b-d9b5-4947-bb34-ffb894e974ec",
   "metadata": {},
   "source": [
    "**2. Which intake type is contributing to the influx of animals into the shelter?**"
   ]
  },
  {
   "cell_type": "code",
   "execution_count": 50,
   "id": "651ce590-a300-4d6c-80a8-8af42d94b0d3",
   "metadata": {},
   "outputs": [
    {
     "name": "stdout",
     "output_type": "stream",
     "text": [
      "          Intake Type  Count of Intakes\n",
      "0           Abandoned              1755\n",
      "1  Euthanasia Request               261\n",
      "2     Owner Surrender             31402\n",
      "3       Public Assist              9328\n",
      "4               Stray            110243\n",
      "5            Wildlife              6318\n"
     ]
    }
   ],
   "source": [
    "intakes_type = intakes_data_cleaned.groupby('Intake Type')\n",
    "\n",
    "total_intakes_type = intakes_type['Animal ID'].nunique()\n",
    "\n",
    "total_intakes_type = total_intakes_type.reset_index(name='Count of Intakes')\n",
    "\n",
    "print(total_intakes_type)"
   ]
  },
  {
   "cell_type": "code",
   "execution_count": 51,
   "id": "03de44da-1d7d-4d84-abdf-a25d6a9e33ae",
   "metadata": {},
   "outputs": [
    {
     "data": {
      "image/png": "[encoded data removed]",
      "text/plain": [
       "<Figure size 1200x600 with 1 Axes>"
      ]
     },
     "metadata": {},
     "output_type": "display_data"
    }
   ],
   "source": [
    "plt.figure(figsize=(12, 6))\n",
    "ax = sns.barplot(data= total_intakes_type, x='Intake Type', y='Count of Intakes', hue='Intake Type', legend=False, palette='rocket')\n",
    "\n",
    "plt.title(\"Intake Type Distribution\", fontsize=16, fontweight='bold')\n",
    "plt.xlabel(\"Intake Type\", fontsize=12, fontweight='bold')\n",
    "plt.ylabel(\"Count of Intakes\", fontsize=12, fontweight='bold')\n",
    "\n",
    "# Adding data labels\n",
    "for p in ax.patches:\n",
    "    ax.annotate(\n",
    "        format(p.get_height(), '.0f'),\n",
    "        (p.get_x() + p.get_width() / 2., p.get_height()),\n",
    "        ha='center', va='center', \n",
    "        xytext=(0, 8), \n",
    "        textcoords='offset points', \n",
    "        fontsize=10\n",
    "    )\n",
    "\n",
    "plt.tight_layout()\n",
    "plt.show()"
   ]
  },
  {
   "cell_type": "markdown",
   "id": "a7909704-62e2-4b12-bd36-90f5aa0af913",
   "metadata": {},
   "source": [
    "**Stray rescues were the most prominent intake type at the shelter, followed by Owner Surrender and Public Assist.**\n",
    "\n",
    "> *It is a common trend across animal shelters worldwide that the majority of intakes come from strays, making this result unsurprising. However, what is notable in the shelter being analyzed is the relatively low number of intakes resulting from requests for euthanasia.*\n",
    "\n",
    "This insight can help shelter management better understand the primary intake types and guide resource allocation and operational strategies accordingly."
   ]
  },
  {
   "cell_type": "markdown",
   "id": "b9be956b-0eee-4403-90d7-54cbba7195c0",
   "metadata": {},
   "source": [
    "**3. What can be the possible outcomes for the animals that are taken into the shelter?**"
   ]
  },
  {
   "cell_type": "code",
   "execution_count": 54,
   "id": "fe04bf6d-2419-4ac7-b233-b6019d0e046a",
   "metadata": {},
   "outputs": [
    {
     "name": "stdout",
     "output_type": "stream",
     "text": [
      "       Outcome Type  Count\n",
      "0          Adoption  73830\n",
      "1              Died   1606\n",
      "2          Disposal    839\n",
      "3        Euthanasia  10508\n",
      "4              Lost      3\n",
      "5           Missing     88\n",
      "6          Relocate     27\n",
      "7   Return to Owner  21930\n",
      "8         Rto-Adopt   1164\n",
      "9            Stolen      5\n",
      "10         Transfer  47319\n"
     ]
    }
   ],
   "source": [
    "outcomes_type = outcomes_data_cleaned.groupby('Outcome Type')\n",
    "\n",
    "total_outcomes_type = outcomes_type['Animal ID'].nunique()\n",
    "\n",
    "total_outcomes_type = total_outcomes_type.reset_index(name = 'Count')\n",
    "\n",
    "print(total_outcomes_type)"
   ]
  },
  {
   "cell_type": "code",
   "execution_count": 55,
   "id": "7d4144ea-740e-4312-b68d-670bc79cfa3a",
   "metadata": {
    "scrolled": true
   },
   "outputs": [
    {
     "data": {
      "image/png": "[encoded data removed]",
      "text/plain": [
       "<Figure size 1200x600 with 1 Axes>"
      ]
     },
     "metadata": {},
     "output_type": "display_data"
    }
   ],
   "source": [
    "# Outcomes Distribution\n",
    "total_outcomes_type = total_outcomes_type.sort_values(by='Count', ascending=False)\n",
    "colors = ['navy' if i < 3 else 'gray' for i in range(len(total_outcomes_type))]\n",
    "\n",
    "plt.figure(figsize=(12, 6))\n",
    "plt.barh(\n",
    "    total_outcomes_type['Outcome Type'], \n",
    "    total_outcomes_type['Count'], \n",
    "    color=colors\n",
    ")\n",
    "\n",
    "for i, value in enumerate(total_outcomes_type['Count']):\n",
    "    plt.text(value + 1, i, str(value), va='center')\n",
    "\n",
    "plt.title('Outcomes Distribution', fontsize=16, fontweight=\"bold\")\n",
    "plt.xlabel('Count of Outcomes', fontweight=\"bold\")\n",
    "plt.show()"
   ]
  },
  {
   "cell_type": "markdown",
   "id": "95457216-56ff-4754-856e-2e1073f99295",
   "metadata": {},
   "source": [
    "**It’s interesting to see that there are a significant number of outcomes for the animals taken into the shelter. The color coding in the visual highlights the top three outcome types, which are as follows:**\n",
    "\n",
    "1. **Adoptions** take the top spot, being the most common outcome for animals at the shelter. It's encouraging to note that a significant portion of the intakes are being adopted.\n",
    "   \n",
    "2. **Transfers** come in second place. This outcome can refer to animals being transferred to foster parents or to other shelters, reflecting a variety of situations where animals are moved for better care or placement.\n",
    "   \n",
    "3. **Return to Owner** ranks third. This outcome likely occurs when animals are microchipped, or the shelter identifies the true owner, resulting in the animal being returned.\n",
    "These insights can help the shelter better understand the success of its adoption efforts and the movement of animals within the system."
   ]
  },
  {
   "cell_type": "markdown",
   "id": "49c268fe-7b1b-4b62-ab95-0f2ee9f224f3",
   "metadata": {},
   "source": [
    "**4. Over time, has the adoption rate of animals from the shelter increased or decreased?**"
   ]
  },
  {
   "cell_type": "code",
   "execution_count": 58,
   "id": "76a8ef9d-4410-411e-941c-4e43ed6b30df",
   "metadata": {},
   "outputs": [
    {
     "name": "stdout",
     "output_type": "stream",
     "text": [
      "    Year  Count of Adoptions\n",
      "0   2013                1784\n",
      "1   2014                6754\n",
      "2   2015                6990\n",
      "3   2016                7519\n",
      "4   2017                7612\n",
      "5   2018                7460\n",
      "6   2019                8971\n",
      "7   2020                4736\n",
      "8   2021                6550\n",
      "9   2022                6531\n",
      "10  2023                6422\n",
      "11  2024                6053\n"
     ]
    }
   ],
   "source": [
    "adoption_data = outcomes_data_cleaned[outcomes_data_cleaned['Outcome Type'].isin(['Adoption', 'Rto-Adopt'])]\n",
    "\n",
    "total_adoption_data = adoption_data.groupby('Year')\n",
    "\n",
    "total_adoption_data = total_adoption_data['Animal ID'].nunique()\n",
    "\n",
    "total_adoption_data = total_adoption_data.reset_index(name = 'Count of Adoptions')\n",
    "\n",
    "print(total_adoption_data)"
   ]
  },
  {
   "cell_type": "code",
   "execution_count": 59,
   "id": "180ffd71-1a52-4fe8-8f74-91d36616c321",
   "metadata": {
    "scrolled": true
   },
   "outputs": [
    {
     "data": {
      "image/png": "[encoded data removed]",
      "text/plain": [
       "<Figure size 1200x600 with 1 Axes>"
      ]
     },
     "metadata": {},
     "output_type": "display_data"
    }
   ],
   "source": [
    "# Adoptions Trend over the Years\n",
    "plt.figure(figsize=(12, 6))\n",
    "\n",
    "plt.fill_between(\n",
    "    total_adoption_data['Year'], \n",
    "    total_adoption_data['Count of Adoptions'], \n",
    "    color='lightgrey', \n",
    "    alpha=0.4\n",
    ")\n",
    "\n",
    "plt.plot(\n",
    "    total_adoption_data['Year'], \n",
    "    total_adoption_data['Count of Adoptions'], \n",
    "    marker='o', \n",
    "    linewidth=2, \n",
    "    color='darkred'\n",
    ")\n",
    "\n",
    "plt.title('Yearly Animal Adoptions', fontsize=16, fontweight='bold')\n",
    "plt.xlabel('Year', fontsize=12, fontweight='bold')\n",
    "plt.ylabel('Count of Adoptions', fontsize=12, fontweight='bold')\n",
    "\n",
    "plt.tight_layout()\n",
    "plt.show()"
   ]
  },
  {
   "cell_type": "markdown",
   "id": "10182073-16eb-42cd-8baf-20db61c7496b",
   "metadata": {},
   "source": [
    "**Based on the visual, it is evident that the adoption trend initially showed an upward trajectory. However, there was a sharp decline in 2020, and post-COVID, the number of adoptions has continued to gradually decline, without significant fluctuations.**\n",
    "\n",
    "This insight is concerning for the shelter, as it highlights a downward trend in adoptions, particularly in the years following the pandemic. The decline could indicate challenges in the adoption process or shifting external factors that are affecting interest in adopting animals.\n",
    "\n",
    "**Why This Insight Matters:**\n",
    "Adoptions are crucial for the shelter's operations. When animals are adopted, the shelter can free up space to intake more animals that require urgent care and attention. A lower adoption rate means fewer animals are leaving the shelter, which in turn limits the shelter's capacity to help others in need.\n",
    "\n",
    "**Next Steps for the Shelter:**\n",
    "To address this issue, the shelter needs to explore additional campaigns, outreach programs, and other strategies to increase adoptions. This could involve partnerships, adoption events, or increased online visibility to reach a larger audience."
   ]
  },
  {
   "cell_type": "markdown",
   "id": "3b0a0a8a-a82a-4475-8f86-3286cb803f49",
   "metadata": {},
   "source": [
    "**Findings in Brief -**\n",
    "\n",
    "**> Intakes Overview:** 2019 had the highest intakes, while 2013 had the lowest. On average, the shelter receives 13,235 intakes per year, with a noticeable drop in 2020 due to the COVID-19 pandemic.\n",
    "\n",
    "**> Intake Types:** Stray rescues were the most common intake type, followed by Owner Surrender and Public Assist, with a relatively low number of euthanasia requests.\n",
    "\n",
    "**> Outcome Types:** Adoptions are the most common outcome, followed by Transfers and Return to Owner, indicating successful rehoming and relocation efforts.\n",
    "\n",
    "**> Adoption Trends:**\n",
    "After an initial increase, adoptions saw a sharp decline in 2020 and have continued to decrease gradually post-COVID, signaling potential challenges in rehoming animals."
   ]
  },
  {
   "cell_type": "markdown",
   "id": "2a4ed2ec-ef0b-418d-988e-1770252847d7",
   "metadata": {},
   "source": [
    "**Conclusion:**\n",
    "\n",
    "In summary, the shelter has witnessed significant trends in intake types, outcomes, and adoption rates over the years. While the shelter has seen a steady number of intakes, particularly from strays, there has been a noticeable decline in adoptions, especially post-COVID. This highlights a potential area of concern for the shelter's operations and long-term capacity to assist animals in need."
   ]
  },
  {
   "cell_type": "markdown",
   "id": "c13d5495-bd52-4856-8ce4-b2946d88e1bd",
   "metadata": {},
   "source": [
    "**Suggestions:**\n",
    "\n",
    "**> Adoption Campaigns:** Run targeted campaigns on social media, hold adoption events, and collaborate with local businesses to boost adoptions.\n",
    "\n",
    "**> Community Outreach:** Build stronger community connections to encourage fostering and volunteering, helping with animal care and placements.\n",
    "\n",
    "**> Data-Driven Decisions:** Keep analyzing trends to improve strategies and resource use, ensuring better support for animals."
   ]
  }
 ],
 "metadata": {
  "kernelspec": {
   "display_name": "Python 3 (ipykernel)",
   "language": "python",
   "name": "python3"
  },
  "language_info": {
   "codemirror_mode": {
    "name": "ipython",
    "version": 3
   },
   "file_extension": ".py",
   "mimetype": "text/x-python",
   "name": "python",
   "nbconvert_exporter": "python",
   "pygments_lexer": "ipython3",
   "version": "3.12.4"
  }
 },
 "nbformat": 4,
 "nbformat_minor": 5
}
